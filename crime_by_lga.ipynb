{
 "cells": [
  {
   "cell_type": "code",
   "execution_count": 85,
   "metadata": {},
   "outputs": [],
   "source": [
    "import pandas as pd\n",
    "import matplotlib.pyplot as plt\n",
    "import requests\n",
    "import json\n",
    "import gmaps\n",
    "\n",
    "# Google API Key\n",
    "from api_keys import g_key"
   ]
  },
  {
   "cell_type": "code",
   "execution_count": 86,
   "metadata": {},
   "outputs": [
    {
     "data": {
      "text/html": [
       "<div>\n",
       "<style scoped>\n",
       "    .dataframe tbody tr th:only-of-type {\n",
       "        vertical-align: middle;\n",
       "    }\n",
       "\n",
       "    .dataframe tbody tr th {\n",
       "        vertical-align: top;\n",
       "    }\n",
       "\n",
       "    .dataframe thead th {\n",
       "        text-align: right;\n",
       "    }\n",
       "</style>\n",
       "<table border=\"1\" class=\"dataframe\">\n",
       "  <thead>\n",
       "    <tr style=\"text-align: right;\">\n",
       "      <th></th>\n",
       "      <th>Year</th>\n",
       "      <th>Year ending</th>\n",
       "      <th>Police Region</th>\n",
       "      <th>Local Government Area</th>\n",
       "      <th>Offence Count</th>\n",
       "      <th>Rate per 100,000 population</th>\n",
       "    </tr>\n",
       "  </thead>\n",
       "  <tbody>\n",
       "    <tr>\n",
       "      <th>0</th>\n",
       "      <td>2021</td>\n",
       "      <td>December</td>\n",
       "      <td>1 North West Metro</td>\n",
       "      <td>Banyule</td>\n",
       "      <td>7357</td>\n",
       "      <td>5597.317575</td>\n",
       "    </tr>\n",
       "    <tr>\n",
       "      <th>1</th>\n",
       "      <td>2021</td>\n",
       "      <td>December</td>\n",
       "      <td>1 North West Metro</td>\n",
       "      <td>Brimbank</td>\n",
       "      <td>17022</td>\n",
       "      <td>8391.791476</td>\n",
       "    </tr>\n",
       "    <tr>\n",
       "      <th>2</th>\n",
       "      <td>2021</td>\n",
       "      <td>December</td>\n",
       "      <td>1 North West Metro</td>\n",
       "      <td>Darebin</td>\n",
       "      <td>12655</td>\n",
       "      <td>7675.314856</td>\n",
       "    </tr>\n",
       "    <tr>\n",
       "      <th>3</th>\n",
       "      <td>2021</td>\n",
       "      <td>December</td>\n",
       "      <td>1 North West Metro</td>\n",
       "      <td>Hobsons Bay</td>\n",
       "      <td>5832</td>\n",
       "      <td>5990.557024</td>\n",
       "    </tr>\n",
       "    <tr>\n",
       "      <th>4</th>\n",
       "      <td>2021</td>\n",
       "      <td>December</td>\n",
       "      <td>1 North West Metro</td>\n",
       "      <td>Hume</td>\n",
       "      <td>17893</td>\n",
       "      <td>7286.510889</td>\n",
       "    </tr>\n",
       "    <tr>\n",
       "      <th>...</th>\n",
       "      <td>...</td>\n",
       "      <td>...</td>\n",
       "      <td>...</td>\n",
       "      <td>...</td>\n",
       "      <td>...</td>\n",
       "      <td>...</td>\n",
       "    </tr>\n",
       "    <tr>\n",
       "      <th>865</th>\n",
       "      <td>2012</td>\n",
       "      <td>December</td>\n",
       "      <td>4 Western</td>\n",
       "      <td>Total</td>\n",
       "      <td>65046</td>\n",
       "      <td>7118.982421</td>\n",
       "    </tr>\n",
       "    <tr>\n",
       "      <th>866</th>\n",
       "      <td>2012</td>\n",
       "      <td>December</td>\n",
       "      <td>Justice Institutions and Immigration Facilities</td>\n",
       "      <td>Justice Institutions and Immigration Facilities</td>\n",
       "      <td>1043</td>\n",
       "      <td>NaN</td>\n",
       "    </tr>\n",
       "    <tr>\n",
       "      <th>867</th>\n",
       "      <td>2012</td>\n",
       "      <td>December</td>\n",
       "      <td>Justice Institutions and Immigration Facilities</td>\n",
       "      <td>Total</td>\n",
       "      <td>1043</td>\n",
       "      <td>NaN</td>\n",
       "    </tr>\n",
       "    <tr>\n",
       "      <th>868</th>\n",
       "      <td>2012</td>\n",
       "      <td>December</td>\n",
       "      <td>Unincorporated Vic</td>\n",
       "      <td>Unincorporated Vic</td>\n",
       "      <td>126</td>\n",
       "      <td>NaN</td>\n",
       "    </tr>\n",
       "    <tr>\n",
       "      <th>869</th>\n",
       "      <td>2012</td>\n",
       "      <td>December</td>\n",
       "      <td>Unincorporated Vic</td>\n",
       "      <td>Total</td>\n",
       "      <td>126</td>\n",
       "      <td>NaN</td>\n",
       "    </tr>\n",
       "  </tbody>\n",
       "</table>\n",
       "<p>870 rows × 6 columns</p>\n",
       "</div>"
      ],
      "text/plain": [
       "     Year Year ending                                    Police Region  \\\n",
       "0    2021    December                               1 North West Metro   \n",
       "1    2021    December                               1 North West Metro   \n",
       "2    2021    December                               1 North West Metro   \n",
       "3    2021    December                               1 North West Metro   \n",
       "4    2021    December                               1 North West Metro   \n",
       "..    ...         ...                                              ...   \n",
       "865  2012    December                                        4 Western   \n",
       "866  2012    December  Justice Institutions and Immigration Facilities   \n",
       "867  2012    December  Justice Institutions and Immigration Facilities   \n",
       "868  2012    December                               Unincorporated Vic   \n",
       "869  2012    December                               Unincorporated Vic   \n",
       "\n",
       "                                Local Government Area  Offence Count  \\\n",
       "0                                             Banyule           7357   \n",
       "1                                            Brimbank          17022   \n",
       "2                                             Darebin          12655   \n",
       "3                                         Hobsons Bay           5832   \n",
       "4                                                Hume          17893   \n",
       "..                                                ...            ...   \n",
       "865                                             Total          65046   \n",
       "866   Justice Institutions and Immigration Facilities           1043   \n",
       "867                                             Total           1043   \n",
       "868                                Unincorporated Vic            126   \n",
       "869                                             Total            126   \n",
       "\n",
       "     Rate per 100,000 population  \n",
       "0                    5597.317575  \n",
       "1                    8391.791476  \n",
       "2                    7675.314856  \n",
       "3                    5990.557024  \n",
       "4                    7286.510889  \n",
       "..                           ...  \n",
       "865                  7118.982421  \n",
       "866                          NaN  \n",
       "867                          NaN  \n",
       "868                          NaN  \n",
       "869                          NaN  \n",
       "\n",
       "[870 rows x 6 columns]"
      ]
     },
     "execution_count": 86,
     "metadata": {},
     "output_type": "execute_result"
    }
   ],
   "source": [
    "# determine the data source\n",
    "lga_data = \"Data/offences_per_lga.xlsx\"\n",
    "lat_long_data = \"Data/SuburbsLatLong.csv\"\n",
    "\n",
    "# create data frame\n",
    "offences_per_lga = pd.read_excel(lga_data)\n",
    "lat_long_df = pd.read_csv(lat_long_data)\n",
    "lat_long_df = lat_long_df.dropna()\n",
    "offences_per_lga\n"
   ]
  },
  {
   "cell_type": "code",
   "execution_count": 87,
   "metadata": {},
   "outputs": [
    {
     "data": {
      "text/html": [
       "<div>\n",
       "<style scoped>\n",
       "    .dataframe tbody tr th:only-of-type {\n",
       "        vertical-align: middle;\n",
       "    }\n",
       "\n",
       "    .dataframe tbody tr th {\n",
       "        vertical-align: top;\n",
       "    }\n",
       "\n",
       "    .dataframe thead th {\n",
       "        text-align: right;\n",
       "    }\n",
       "</style>\n",
       "<table border=\"1\" class=\"dataframe\">\n",
       "  <thead>\n",
       "    <tr style=\"text-align: right;\">\n",
       "      <th>Police Region</th>\n",
       "      <th>1 North West Metro</th>\n",
       "      <th>2 Eastern</th>\n",
       "      <th>3 Southern Metro</th>\n",
       "      <th>4 Western</th>\n",
       "    </tr>\n",
       "    <tr>\n",
       "      <th>Year</th>\n",
       "      <th></th>\n",
       "      <th></th>\n",
       "      <th></th>\n",
       "      <th></th>\n",
       "    </tr>\n",
       "  </thead>\n",
       "  <tbody>\n",
       "    <tr>\n",
       "      <th>2012</th>\n",
       "      <td>339674</td>\n",
       "      <td>180646</td>\n",
       "      <td>193244</td>\n",
       "      <td>130092</td>\n",
       "    </tr>\n",
       "    <tr>\n",
       "      <th>2013</th>\n",
       "      <td>342878</td>\n",
       "      <td>189174</td>\n",
       "      <td>203178</td>\n",
       "      <td>136624</td>\n",
       "    </tr>\n",
       "    <tr>\n",
       "      <th>2014</th>\n",
       "      <td>358482</td>\n",
       "      <td>201184</td>\n",
       "      <td>210150</td>\n",
       "      <td>145378</td>\n",
       "    </tr>\n",
       "    <tr>\n",
       "      <th>2015</th>\n",
       "      <td>385932</td>\n",
       "      <td>218104</td>\n",
       "      <td>236550</td>\n",
       "      <td>156604</td>\n",
       "    </tr>\n",
       "    <tr>\n",
       "      <th>2016</th>\n",
       "      <td>418356</td>\n",
       "      <td>243526</td>\n",
       "      <td>261128</td>\n",
       "      <td>175236</td>\n",
       "    </tr>\n",
       "    <tr>\n",
       "      <th>2017</th>\n",
       "      <td>379516</td>\n",
       "      <td>225120</td>\n",
       "      <td>230076</td>\n",
       "      <td>166666</td>\n",
       "    </tr>\n",
       "    <tr>\n",
       "      <th>2018</th>\n",
       "      <td>389840</td>\n",
       "      <td>225320</td>\n",
       "      <td>234212</td>\n",
       "      <td>167538</td>\n",
       "    </tr>\n",
       "    <tr>\n",
       "      <th>2019</th>\n",
       "      <td>401840</td>\n",
       "      <td>246008</td>\n",
       "      <td>246288</td>\n",
       "      <td>171758</td>\n",
       "    </tr>\n",
       "    <tr>\n",
       "      <th>2020</th>\n",
       "      <td>414118</td>\n",
       "      <td>250858</td>\n",
       "      <td>253270</td>\n",
       "      <td>171404</td>\n",
       "    </tr>\n",
       "    <tr>\n",
       "      <th>2021</th>\n",
       "      <td>356142</td>\n",
       "      <td>222456</td>\n",
       "      <td>214544</td>\n",
       "      <td>158104</td>\n",
       "    </tr>\n",
       "  </tbody>\n",
       "</table>\n",
       "</div>"
      ],
      "text/plain": [
       "Police Region  1 North West Metro  2 Eastern  3 Southern Metro  4 Western\n",
       "Year                                                                     \n",
       "2012                       339674     180646            193244     130092\n",
       "2013                       342878     189174            203178     136624\n",
       "2014                       358482     201184            210150     145378\n",
       "2015                       385932     218104            236550     156604\n",
       "2016                       418356     243526            261128     175236\n",
       "2017                       379516     225120            230076     166666\n",
       "2018                       389840     225320            234212     167538\n",
       "2019                       401840     246008            246288     171758\n",
       "2020                       414118     250858            253270     171404\n",
       "2021                       356142     222456            214544     158104"
      ]
     },
     "execution_count": 87,
     "metadata": {},
     "output_type": "execute_result"
    }
   ],
   "source": [
    "# remove from dataframe the Police Region: Justice Institutions and Immigration Facilities\n",
    "offences_per_lga = offences_per_lga.loc[\n",
    "    (offences_per_lga[\"Police Region\"] != \"Justice Institutions and Immigration Facilities\") & \n",
    "    (offences_per_lga[\"Police Region\"] != \"Unincorporated Vic\"),:]\n",
    "\n",
    "# recut the dataframe to sum the offence count\n",
    "offences_year_police_df = offences_per_lga[[\"Year\",\"Police Region\",\"Offence Count\"]]\n",
    "\n",
    "# group the data by year by police region\n",
    "sum_offences_year_police_df = offences_year_police_df.groupby([\"Year\",\"Police Region\"]).sum()[\"Offence Count\"].unstack()\n",
    "sum_offences_year_police_df"
   ]
  },
  {
   "cell_type": "markdown",
   "metadata": {},
   "source": [
    "Number of offences by police region, 2012 to 2021"
   ]
  },
  {
   "cell_type": "code",
   "execution_count": 121,
   "metadata": {},
   "outputs": [
    {
     "data": {
      "image/png": "[encoded data removed]",
      "text/plain": [
       "<Figure size 504x504 with 1 Axes>"
      ]
     },
     "metadata": {
      "needs_background": "light"
     },
     "output_type": "display_data"
    }
   ],
   "source": [
    "fig_offences_by_region = sum_offences_year_police_df.plot(\n",
    "    kind=\"line\",figsize=(7,7),\n",
    "    title=\"Offences Count By Region (2012 to 2021)\",\n",
    "    xlabel=\"Year\",\n",
    "    ylabel=\"Number of Offences\")\n",
    "\n",
    "# fig_offences_by_region.legend(loc='center left', bbox_to_anchor=(1, 0.5))\n",
    "plt.savefig(\"output/offences_by_police_region.png\")"
   ]
  },
  {
   "cell_type": "code",
   "execution_count": 105,
   "metadata": {},
   "outputs": [
    {
     "name": "stderr",
     "output_type": "stream",
     "text": [
      "C:\\Users\\chris\\AppData\\Local\\Temp/ipykernel_19556/1297712403.py:9: FutureWarning: In a future version of pandas all arguments of DataFrame.drop except for the argument 'labels' will be keyword-only\n",
      "  top_bottom_lga = top_bottom_lga.drop([\"Year\"],1)\n",
      "C:\\Users\\chris\\AppData\\Local\\Temp/ipykernel_19556/1297712403.py:13: FutureWarning: In a future version of pandas all arguments of DataFrame.drop except for the argument 'labels' will be keyword-only\n",
      "  top_bottom_lga = top_bottom_lga.drop([\"Offence Count\"],1)\n"
     ]
    }
   ],
   "source": [
    "top_bottom_n = 4\n",
    "\n",
    "# recut the dataframe\n",
    "region_df = offences_per_lga[[\"Year\",\"Police Region\",\"Local Government Area\",\"Offence Count\"]]\n",
    "\n",
    "top_bottom_lga = region_df.loc[region_df[\"Local Government Area\"] != \"Total\",:]\n",
    "top_bottom_lga = top_bottom_lga.groupby([\"Local Government Area\"]).sum()\n",
    "top_bottom_lga = top_bottom_lga.sort_values([\"Offence Count\"],ascending=False)\n",
    "top_bottom_lga = top_bottom_lga.drop([\"Year\"],1)\n",
    "\n",
    "# retrieve n numbers top bottom LGA\n",
    "top_bottom_lga = pd.concat([top_bottom_lga.head(top_bottom_n),top_bottom_lga.tail(top_bottom_n)])\n",
    "top_bottom_lga = top_bottom_lga.drop([\"Offence Count\"],1)\n",
    "\n",
    "# merge dataframe to retrieve the yearly offence count\n",
    "top_bottom_lga = pd.merge(top_bottom_lga,region_df,on=\"Local Government Area\",how=\"inner\")"
   ]
  },
  {
   "cell_type": "markdown",
   "metadata": {},
   "source": [
    "Which police regions are the top bottom LGA located?"
   ]
  },
  {
   "cell_type": "code",
   "execution_count": 103,
   "metadata": {},
   "outputs": [
    {
     "name": "stderr",
     "output_type": "stream",
     "text": [
      "C:\\Users\\chris\\AppData\\Local\\Temp/ipykernel_19556/1361718761.py:2: FutureWarning: In a future version of pandas all arguments of DataFrame.drop except for the argument 'labels' will be keyword-only\n",
      "  group_top_bottom_region = group_top_bottom_region.drop([\"Year\"],1)\n"
     ]
    },
    {
     "data": {
      "text/html": [
       "<div>\n",
       "<style scoped>\n",
       "    .dataframe tbody tr th:only-of-type {\n",
       "        vertical-align: middle;\n",
       "    }\n",
       "\n",
       "    .dataframe tbody tr th {\n",
       "        vertical-align: top;\n",
       "    }\n",
       "\n",
       "    .dataframe thead th {\n",
       "        text-align: right;\n",
       "    }\n",
       "</style>\n",
       "<table border=\"1\" class=\"dataframe\">\n",
       "  <thead>\n",
       "    <tr style=\"text-align: right;\">\n",
       "      <th></th>\n",
       "      <th></th>\n",
       "      <th>Offence Count</th>\n",
       "    </tr>\n",
       "    <tr>\n",
       "      <th>Police Region</th>\n",
       "      <th>Local Government Area</th>\n",
       "      <th></th>\n",
       "    </tr>\n",
       "  </thead>\n",
       "  <tbody>\n",
       "    <tr>\n",
       "      <th rowspan=\"2\" valign=\"top\">1 North West Metro</th>\n",
       "      <th>Hume</th>\n",
       "      <td>194790</td>\n",
       "    </tr>\n",
       "    <tr>\n",
       "      <th>Melbourne</th>\n",
       "      <td>351548</td>\n",
       "    </tr>\n",
       "    <tr>\n",
       "      <th>2 Eastern</th>\n",
       "      <th>Towong</th>\n",
       "      <td>2264</td>\n",
       "    </tr>\n",
       "    <tr>\n",
       "      <th>3 Southern Metro</th>\n",
       "      <th>Casey</th>\n",
       "      <td>200579</td>\n",
       "    </tr>\n",
       "    <tr>\n",
       "      <th rowspan=\"4\" valign=\"top\">4 Western</th>\n",
       "      <th>Buloke</th>\n",
       "      <td>2716</td>\n",
       "    </tr>\n",
       "    <tr>\n",
       "      <th>Greater Geelong</th>\n",
       "      <td>203355</td>\n",
       "    </tr>\n",
       "    <tr>\n",
       "      <th>Queenscliffe</th>\n",
       "      <td>1409</td>\n",
       "    </tr>\n",
       "    <tr>\n",
       "      <th>West Wimmera</th>\n",
       "      <td>1758</td>\n",
       "    </tr>\n",
       "  </tbody>\n",
       "</table>\n",
       "</div>"
      ],
      "text/plain": [
       "                                          Offence Count\n",
       "Police Region      Local Government Area               \n",
       "1 North West Metro  Hume                         194790\n",
       "                    Melbourne                    351548\n",
       "2 Eastern           Towong                         2264\n",
       "3 Southern Metro    Casey                        200579\n",
       "4 Western           Buloke                         2716\n",
       "                    Greater Geelong              203355\n",
       "                    Queenscliffe                   1409\n",
       "                    West Wimmera                   1758"
      ]
     },
     "execution_count": 103,
     "metadata": {},
     "output_type": "execute_result"
    }
   ],
   "source": [
    "group_top_bottom_region = top_bottom_lga.groupby([\"Police Region\",\"Local Government Area\"]).sum()\n",
    "group_top_bottom_region = group_top_bottom_region.drop([\"Year\"],1)\n",
    "group_top_bottom_region"
   ]
  },
  {
   "cell_type": "markdown",
   "metadata": {},
   "source": [
    "What are the trends for each top & bottom LGA?"
   ]
  },
  {
   "cell_type": "code",
   "execution_count": 104,
   "metadata": {},
   "outputs": [
    {
     "name": "stderr",
     "output_type": "stream",
     "text": [
      "C:\\Users\\chris\\AppData\\Local\\Temp/ipykernel_19556/3634007690.py:2: FutureWarning: In a future version of pandas all arguments of DataFrame.drop except for the argument 'labels' will be keyword-only\n",
      "  top_bottom_lga = top_bottom_lga.drop([\"Police Region\"],1)\n"
     ]
    }
   ],
   "source": [
    "# group by LGA\n",
    "top_bottom_lga = top_bottom_lga.drop([\"Police Region\"],1)\n",
    "group_top_bottom_lga = top_bottom_lga.groupby([\"Year\",\"Local Government Area\"]).sum()[\"Offence Count\"].unstack()\n"
   ]
  },
  {
   "cell_type": "code",
   "execution_count": 120,
   "metadata": {},
   "outputs": [
    {
     "data": {
      "image/png": "[encoded data removed]",
      "text/plain": [
       "<Figure size 504x504 with 1 Axes>"
      ]
     },
     "metadata": {
      "needs_background": "light"
     },
     "output_type": "display_data"
    }
   ],
   "source": [
    "# line plotting\n",
    "colours = [\"lightblue\",\"sandybrown\",\"mediumpurple\", \"teal\", \"purple\",\"palevioletred\",\"green\",\"brown\"]\n",
    "\n",
    "top_bottom_fig = group_top_bottom_lga.plot(\n",
    "    kind = \"line\",\n",
    "    title = f'Number of Offences: Top & Bottom {top_bottom_n} Local Government Area',\n",
    "    xlabel = \"Year\",\n",
    "    ylabel = \"Number of Offences\",\n",
    "    color = colours,\n",
    "    figsize = (7,7))\n",
    "\n",
    "plt.ylim(0,40000)\n",
    "# top_bottom_fig.legend(loc='center left', bbox_to_anchor=(1, 0.5))\n",
    "\n",
    "plt.savefig(\"output/top_bottom_LGA.png\")"
   ]
  },
  {
   "cell_type": "markdown",
   "metadata": {},
   "source": [
    "Where have the offences been concentrated in Victoria?"
   ]
  },
  {
   "cell_type": "code",
   "execution_count": 113,
   "metadata": {},
   "outputs": [
    {
     "name": "stderr",
     "output_type": "stream",
     "text": [
      "C:\\Users\\chris\\AppData\\Local\\Temp/ipykernel_19556/1535761406.py:8: SettingWithCopyWarning: \n",
      "A value is trying to be set on a copy of a slice from a DataFrame.\n",
      "Try using .loc[row_indexer,col_indexer] = value instead\n",
      "\n",
      "See the caveats in the documentation: https://pandas.pydata.org/pandas-docs/stable/user_guide/indexing.html#returning-a-view-versus-a-copy\n",
      "  heatmap_region_df[\"lat\"]=\"\"\n",
      "C:\\Users\\chris\\AppData\\Local\\Temp/ipykernel_19556/1535761406.py:9: SettingWithCopyWarning: \n",
      "A value is trying to be set on a copy of a slice from a DataFrame.\n",
      "Try using .loc[row_indexer,col_indexer] = value instead\n",
      "\n",
      "See the caveats in the documentation: https://pandas.pydata.org/pandas-docs/stable/user_guide/indexing.html#returning-a-view-versus-a-copy\n",
      "  heatmap_region_df[\"long\"]=\"\"\n",
      "C:\\Users\\chris\\anaconda3\\lib\\site-packages\\pandas\\core\\indexing.py:1817: SettingWithCopyWarning: \n",
      "A value is trying to be set on a copy of a slice from a DataFrame.\n",
      "Try using .loc[row_indexer,col_indexer] = value instead\n",
      "\n",
      "See the caveats in the documentation: https://pandas.pydata.org/pandas-docs/stable/user_guide/indexing.html#returning-a-view-versus-a-copy\n",
      "  self._setitem_single_column(loc, value, pi)\n"
     ]
    }
   ],
   "source": [
    "# create heat map region df\n",
    "heatmap_region_df = offences_per_lga[[\"Local Government Area\",\"Offence Count\"]]\n",
    "\n",
    "# remove the total line\n",
    "heatmap_region_df.loc[heatmap_region_df[\"Offence Count\"] != \"Total\",:]\n",
    "\n",
    "# create lat long columns\n",
    "heatmap_region_df[\"lat\"]=\"\"\n",
    "heatmap_region_df[\"long\"]=\"\"\n",
    "\n",
    "# create parameter dict\n",
    "parameter = {\"key\":g_key}\n",
    "\n",
    "#loop through each local government area to retrieve lat long values\n",
    "for index,row in heatmap_region_df.iterrows():\n",
    "    base_url = \"https://maps.googleapis.com/maps/api/geocode/json\"\n",
    "\n",
    "    city = row[\"Local Government Area\"]\n",
    "    state = \"victoria\"\n",
    "    country = \"australia\"\n",
    "\n",
    "    # update parameter\n",
    "    parameter[\"address\"]=f\"{city},{state},{country}\"\n",
    "\n",
    "    # make request\n",
    "    lga_lat_long = requests.get(base_url,params=parameter)\n",
    "\n",
    "    # convert to json\n",
    "    lga_lat_long = lga_lat_long.json()\n",
    "\n",
    "    # update the data frame\n",
    "    heatmap_region_df.loc[index,\"lat\"] = lga_lat_long[\"results\"][0][\"geometry\"][\"location\"][\"lat\"]    \n",
    "    heatmap_region_df.loc[index,\"long\"] = lga_lat_long[\"results\"][0][\"geometry\"][\"location\"][\"lng\"]"
   ]
  },
  {
   "cell_type": "code",
   "execution_count": 114,
   "metadata": {},
   "outputs": [],
   "source": [
    "# group by local government area\n",
    "group_heatmap_region = heatmap_region_df.groupby([\"Local Government Area\",\"lat\",\"long\"],as_index=False).agg({\"Offence Count\":sum})\n",
    "# group_heatmap_region_df = heatmap_region_df.groupby([\"Local Government Area\",\"lat\",\"long\"])\n",
    "\n",
    "group_heatmap_region_df = pd.DataFrame(group_heatmap_region)\n"
   ]
  },
  {
   "cell_type": "code",
   "execution_count": 117,
   "metadata": {},
   "outputs": [
    {
     "data": {
      "application/vnd.jupyter.widget-view+json": {
       "model_id": "697266dcc6c24c619ccf4b670759536a",
       "version_major": 2,
       "version_minor": 0
      },
      "text/plain": [
       "Figure(layout=FigureLayout(height='420px'))"
      ]
     },
     "metadata": {},
     "output_type": "display_data"
    }
   ],
   "source": [
    "# Configure API key for Gmap\n",
    "gmaps.configure(api_key=g_key)\n",
    "\n",
    "# Determine LGA location based on Lat and Long\n",
    "lga_locations = group_heatmap_region_df[[\"lat\",\"long\"]]\n",
    "\n",
    "# Determine offence count value\n",
    "offence_count = group_heatmap_region_df[\"Offence Count\"].astype(float)\n",
    "\n",
    "# Create humidity heatmap layer\n",
    "fig_offence_lga = gmaps.figure()\n",
    "lga_offence_layer = gmaps.heatmap_layer(lga_locations,weights = offence_count, dissipating=False, max_intensity=5000, point_radius=0.1)\n",
    "fig_offence_lga.add_layer(lga_offence_layer)\n",
    "fig_offence_lga\n"
   ]
  },
  {
   "cell_type": "code",
   "execution_count": null,
   "metadata": {},
   "outputs": [],
   "source": []
  }
 ],
 "metadata": {
  "interpreter": {
   "hash": "c72a629dba5ae9edebcad565c17c3988d814021371aabb3db62cb04d2b10dbfe"
  },
  "kernelspec": {
   "display_name": "Python 3.9.7 ('base')",
   "language": "python",
   "name": "python3"
  },
  "language_info": {
   "codemirror_mode": {
    "name": "ipython",
    "version": 3
   },
   "file_extension": ".py",
   "mimetype": "text/x-python",
   "name": "python",
   "nbconvert_exporter": "python",
   "pygments_lexer": "ipython3",
   "version": "3.9.7"
  },
  "orig_nbformat": 4
 },
 "nbformat": 4,
 "nbformat_minor": 2
}
